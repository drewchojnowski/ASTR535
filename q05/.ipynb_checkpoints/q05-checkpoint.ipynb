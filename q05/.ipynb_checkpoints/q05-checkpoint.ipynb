{
 "cells": [
  {
   "cell_type": "code",
   "execution_count": 1,
   "metadata": {
    "collapsed": true
   },
   "outputs": [],
   "source": [
    "import astroconvert as ac"
   ]
  },
  {
   "cell_type": "code",
   "execution_count": 2,
   "metadata": {
    "collapsed": false
   },
   "outputs": [
    {
     "name": "stdout",
     "output_type": "stream",
     "text": [
      "frequency:  545077.196364  (GHz)\n",
      "energy:  2.25425813429  (eV)\n"
     ]
    }
   ],
   "source": [
    "x=ac.lightunits(wavelength=5500.0)"
   ]
  },
  {
   "cell_type": "code",
   "execution_count": 3,
   "metadata": {
    "collapsed": false
   },
   "outputs": [
    {
     "name": "stdout",
     "output_type": "stream",
     "text": [
      "F_lambda: 3.33102731111e+11  erg/cm^2/s/angstrom\n"
     ]
    }
   ],
   "source": [
    "x=ac.fluxunits(wavelength=3000,fnu=1.0)"
   ]
  },
  {
   "cell_type": "code",
   "execution_count": 4,
   "metadata": {
    "collapsed": false
   },
   "outputs": [
    {
     "name": "stdout",
     "output_type": "stream",
     "text": [
      "F_lambda: 99104944793.4  erg/cm^2/s/angstrom\n"
     ]
    }
   ],
   "source": [
    "x=ac.fluxunits(wavelength=5500,fnu=1.0)"
   ]
  },
  {
   "cell_type": "code",
   "execution_count": 5,
   "metadata": {
    "collapsed": false
   },
   "outputs": [
    {
     "name": "stdout",
     "output_type": "stream",
     "text": [
      "F_lambda: 46842571562.5  erg/cm^2/s/angstrom\n"
     ]
    }
   ],
   "source": [
    "x=ac.fluxunits(wavelength=8000,fnu=1.0)"
   ]
  },
  {
   "cell_type": "code",
   "execution_count": 6,
   "metadata": {
    "collapsed": false
   },
   "outputs": [
    {
     "name": "stdout",
     "output_type": "stream",
     "text": [
      "F_nu: 3.00207685678e-12  erg/cm^2/s/Hz\n"
     ]
    }
   ],
   "source": [
    "x=ac.fluxunits(wavelength=3000,flambda=1.0)"
   ]
  },
  {
   "cell_type": "code",
   "execution_count": 7,
   "metadata": {
    "collapsed": false
   },
   "outputs": [
    {
     "name": "stdout",
     "output_type": "stream",
     "text": [
      "F_nu: 1.00903138797e-11  erg/cm^2/s/Hz\n"
     ]
    }
   ],
   "source": [
    "x=ac.fluxunits(wavelength=5500,flambda=1.0)"
   ]
  },
  {
   "cell_type": "code",
   "execution_count": 8,
   "metadata": {
    "collapsed": false
   },
   "outputs": [
    {
     "name": "stdout",
     "output_type": "stream",
     "text": [
      "F_nu: 2.13481020927e-11  erg/cm^2/s/Hz\n"
     ]
    }
   ],
   "source": [
    "x=ac.fluxunits(wavelength=8000,flambda=1.0)"
   ]
  },
  {
   "cell_type": "code",
   "execution_count": null,
   "metadata": {
    "collapsed": true
   },
   "outputs": [],
   "source": []
  }
 ],
 "metadata": {
  "kernelspec": {
   "display_name": "Python 2",
   "language": "python",
   "name": "python2"
  },
  "language_info": {
   "codemirror_mode": {
    "name": "ipython",
    "version": 2
   },
   "file_extension": ".py",
   "mimetype": "text/x-python",
   "name": "python",
   "nbconvert_exporter": "python",
   "pygments_lexer": "ipython2",
   "version": "2.7.10"
  }
 },
 "nbformat": 4,
 "nbformat_minor": 0
}
